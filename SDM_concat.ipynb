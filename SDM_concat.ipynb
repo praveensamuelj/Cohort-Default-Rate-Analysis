{
 "cells": [
  {
   "cell_type": "code",
   "execution_count": 14,
   "id": "a9434f3f",
   "metadata": {},
   "outputs": [],
   "source": [
    "import pandas as pd\n",
    "import numpy as np"
   ]
  },
  {
   "cell_type": "code",
   "execution_count": 15,
   "id": "303db81b",
   "metadata": {},
   "outputs": [],
   "source": [
    "data_13_14_f=pd.read_csv(\"/Users/praveensamuelj/Desktop/Py/sdm_final_data/cdr13_14_final2.csv\")"
   ]
  },
  {
   "cell_type": "code",
   "execution_count": 16,
   "id": "bfe8c0f7",
   "metadata": {},
   "outputs": [],
   "source": [
    "data_14_15_f=pd.read_csv(\"/Users/praveensamuelj/Desktop/Py/sdm_final_data/cdr14_15_final2.csv\")"
   ]
  },
  {
   "cell_type": "code",
   "execution_count": 17,
   "id": "bca5a35e",
   "metadata": {},
   "outputs": [],
   "source": [
    "data_15_16_f=pd.read_csv(\"/Users/praveensamuelj/Desktop/Py/sdm_final_data/cdr15_16_final2.csv\")"
   ]
  },
  {
   "cell_type": "code",
   "execution_count": 18,
   "id": "7114c546",
   "metadata": {},
   "outputs": [],
   "source": [
    "data_16_17_f=pd.read_csv(\"/Users/praveensamuelj/Desktop/Py/sdm_final_data/cdr16_17_final2.csv\")"
   ]
  },
  {
   "cell_type": "code",
   "execution_count": 19,
   "id": "1ed48993",
   "metadata": {},
   "outputs": [],
   "source": [
    "data_17_18_f=pd.read_csv(\"/Users/praveensamuelj/Desktop/Py/sdm_final_data/cdr17_18_final2.csv\")"
   ]
  },
  {
   "cell_type": "code",
   "execution_count": 20,
   "id": "34cf80f3",
   "metadata": {},
   "outputs": [],
   "source": [
    "data_18_19_f=pd.read_csv(\"/Users/praveensamuelj/Desktop/Py/sdm_final_data/cdr18_19_final2.csv\")"
   ]
  },
  {
   "cell_type": "code",
   "execution_count": 21,
   "id": "76c1a727",
   "metadata": {},
   "outputs": [],
   "source": [
    "data_19_20_f=pd.read_csv(\"/Users/praveensamuelj/Desktop/Py/sdm_final_data/cdr19_20_final2.csv\")"
   ]
  },
  {
   "cell_type": "code",
   "execution_count": 22,
   "id": "444708e6",
   "metadata": {},
   "outputs": [],
   "source": [
    "cdr_full = pd.concat([data_13_14_f,data_14_15_f, data_15_16_f,data_16_17_f,data_17_18_f,data_18_19_f,data_19_20_f], ignore_index=True)"
   ]
  },
  {
   "cell_type": "code",
   "execution_count": 26,
   "id": "d2b72435",
   "metadata": {},
   "outputs": [],
   "source": [
    "cdr_full['REGION'] = cdr_full['REGION'].map({1 : \"New England\", \n",
    "                                               2 : \"Mid East\", \n",
    "                                               3 : \"Great Lakes\", \n",
    "                                               4:\"Plains\", \n",
    "                                               5:\"Southeast\", \n",
    "                                               6:\"Southwest\", \n",
    "                                               7:\"Rocky Mountains\", \n",
    "                                               8:\"Far West\",\n",
    "                                               9:\"Outlying Areas\"})"
   ]
  },
  {
   "cell_type": "code",
   "execution_count": null,
   "id": "e37f5172",
   "metadata": {},
   "outputs": [],
   "source": [
    "cdr_full['CONTROL'] = cdr_full['CONTROL'].map({1 : \"PUBLIC\", 2 : \"PRIVATE NON PROFIT\", 3 : \"PRIVATE FOR PROFIT\"})"
   ]
  },
  {
   "cell_type": "code",
   "execution_count": 27,
   "id": "08a2be16",
   "metadata": {},
   "outputs": [],
   "source": [
    "cdr_full.to_csv(\"/Users/praveensamuelj/Desktop/Py/sdm_final_data/final_cdr_sdm.csv\")"
   ]
  },
  {
   "cell_type": "code",
   "execution_count": 28,
   "id": "56a5d292",
   "metadata": {},
   "outputs": [
    {
     "data": {
      "text/plain": [
       "(14301, 36)"
      ]
     },
     "execution_count": 28,
     "metadata": {},
     "output_type": "execute_result"
    }
   ],
   "source": [
    "cdr_full.shape"
   ]
  }
 ],
 "metadata": {
  "kernelspec": {
   "display_name": "Python 3.9 (tensorflow)",
   "language": "python",
   "name": "tensorflow"
  },
  "language_info": {
   "codemirror_mode": {
    "name": "ipython",
    "version": 3
   },
   "file_extension": ".py",
   "mimetype": "text/x-python",
   "name": "python",
   "nbconvert_exporter": "python",
   "pygments_lexer": "ipython3",
   "version": "3.9.6"
  }
 },
 "nbformat": 4,
 "nbformat_minor": 5
}
